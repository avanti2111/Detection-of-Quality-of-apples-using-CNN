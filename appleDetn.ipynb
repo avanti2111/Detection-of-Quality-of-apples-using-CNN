{
  "nbformat": 4,
  "nbformat_minor": 0,
  "metadata": {
    "colab": {
      "name": "appleDetn.ipynb",
      "provenance": [],
      "collapsed_sections": []
    },
    "kernelspec": {
      "name": "python3",
      "display_name": "Python 3"
    },
    "language_info": {
      "name": "python"
    },
    "accelerator": "GPU"
  },
  "cells": [
    {
      "cell_type": "code",
      "metadata": {
        "colab": {
          "base_uri": "https://localhost:8080/"
        },
        "id": "kFPOiwKYZiW2",
        "outputId": "45032c25-a071-4bc9-f54f-278b1ce97f5e"
      },
      "source": [
        "from google.colab import drive\n",
        "\n",
        "drive.mount('/content/gdrive')"
      ],
      "execution_count": null,
      "outputs": [
        {
          "output_type": "stream",
          "name": "stdout",
          "text": [
            "Mounted at /content/gdrive\n"
          ]
        }
      ]
    },
    {
      "cell_type": "code",
      "metadata": {
        "id": "0tYf7jB_apXF"
      },
      "source": [
        "import numpy as np\n",
        "import matplotlib.pyplot as plt\n",
        "import cv2\n",
        "import os\n",
        "import torch\n",
        "import glob\n",
        "import torch.nn as nn\n",
        "from torchvision.transforms import transforms\n",
        "from torch.utils.data import DataLoader\n",
        "from torch.optim import Adam\n",
        "from torch.autograd import Variable\n",
        "import torchvision\n",
        "import pathlib"
      ],
      "execution_count": null,
      "outputs": []
    },
    {
      "cell_type": "code",
      "metadata": {
        "id": "IiZjuUYANuh-"
      },
      "source": [
        "# checking for device\n",
        "device=torch.device('cuda' if torch.cuda.is_available() else 'cpu')"
      ],
      "execution_count": null,
      "outputs": []
    },
    {
      "cell_type": "code",
      "metadata": {
        "colab": {
          "base_uri": "https://localhost:8080/"
        },
        "id": "1WVcKxmBOCux",
        "outputId": "c41584e0-73e1-4404-e4aa-4371b60f91a0"
      },
      "source": [
        "print(device)"
      ],
      "execution_count": null,
      "outputs": [
        {
          "output_type": "stream",
          "name": "stdout",
          "text": [
            "cuda\n"
          ]
        }
      ]
    },
    {
      "cell_type": "code",
      "metadata": {
        "id": "dC2ZVkhbPIpc"
      },
      "source": [
        "# transforming images\n",
        "transformer=transforms.Compose([\n",
        "    transforms.Resize((150,150)),\n",
        "    transforms.RandomHorizontalFlip(),\n",
        "    transforms.ToTensor(),   #change pixel range from 0-255 to 0-1 and also changes the datatype from numpy to tensor\n",
        "    transforms.Normalize([0.5,0.5,0.5],\n",
        "                         [0.5,0.5,0.5])  \n",
        "])"
      ],
      "execution_count": null,
      "outputs": []
    },
    {
      "cell_type": "code",
      "metadata": {
        "id": "fmLUPnbVc3LU"
      },
      "source": [
        "# loading data\n",
        "\n",
        "train_path='/content/gdrive/MyDrive/Seminar_AppleDetection'\n",
        "test_path='/content/gdrive/MyDrive/Seminar_AppleDetection'\n",
        "\n",
        "train_loader=DataLoader(\n",
        "    torchvision.datasets.ImageFolder(train_path,transform=transformer),\n",
        "    batch_size=256,shuffle=True\n",
        ")\n",
        "test_loader=DataLoader(\n",
        "    torchvision.datasets.ImageFolder(test_path,transform=transformer),\n",
        "    batch_size=256,shuffle=True\n",
        ")"
      ],
      "execution_count": null,
      "outputs": []
    },
    {
      "cell_type": "code",
      "metadata": {
        "id": "HdhYcUbuiPVN"
      },
      "source": [
        "# categories\n",
        "root = pathlib.Path(train_path)\n",
        "classes=sorted([j.name.split('/')[-1] for j in root.iterdir()])"
      ],
      "execution_count": null,
      "outputs": []
    },
    {
      "cell_type": "code",
      "metadata": {
        "colab": {
          "base_uri": "https://localhost:8080/"
        },
        "id": "VEQBqoVyis89",
        "outputId": "f57333ab-f340-4f64-b83e-36af1404d36e"
      },
      "source": [
        "print(classes)"
      ],
      "execution_count": null,
      "outputs": [
        {
          "output_type": "stream",
          "name": "stdout",
          "text": [
            "['fresh_apple', 'rotten_apple']\n"
          ]
        }
      ]
    },
    {
      "cell_type": "code",
      "metadata": {
        "id": "5UlzEJg2ixCp"
      },
      "source": [
        "#CNN Network\n",
        "class ConvNet(nn.Module):\n",
        "  def __init__(self,num_classes=2):\n",
        "    super(ConvNet,self).__init__()\n",
        "    \n",
        "\n",
        "    #input shape=(256,3,150,150)\n",
        "    self.conv1=nn.Conv2d(3,12,3,stride=1,padding=1)\n",
        "    # new shape = (256,12,150,150)\n",
        "    self.bn1=nn.BatchNorm2d(num_features=12)\n",
        "    self.relu1=nn.ReLU()\n",
        "\n",
        "    self.pool=nn.MaxPool2d(2)\n",
        "    #reduce the image size be factor 2\n",
        "    #shape=(256,12,75,75)\n",
        "\n",
        "    self.conv2=nn.Conv2d(12,20,3,stride=1,padding=1)\n",
        "    #shape=(256,20,75,75)\n",
        "    self.relu2=nn.ReLU()\n",
        "\n",
        "    self.conv3=nn.Conv2d(20,32,3,stride=1,padding=1)\n",
        "    # new shape = (256,32,75,75)\n",
        "    self.bn3=nn.BatchNorm2d(num_features=32)\n",
        "    self.relu3=nn.ReLU()\n",
        "\n",
        "    self.fc=nn.Linear(in_features=32*75*75,out_features=num_classes)\n",
        "    \n",
        "    # Feed Forward Function\n",
        "\n",
        "  def forward(self,input):\n",
        "    output=self.conv1(input)\n",
        "    output=self.bn1(output)\n",
        "    output=self.relu1(output)\n",
        "\n",
        "    output=self.pool(output)\n",
        "\n",
        "    output=self.conv2(output)\n",
        "    output=self.relu2(output)\n",
        "\n",
        "    output=self.conv3(output)\n",
        "    output=self.bn3(output)\n",
        "    output=self.relu3(output)\n",
        "\n",
        "      #above output will be in matrix form,with shape(256,32,75,75)\n",
        "\n",
        "    output=output.view(-1,32*75*75)\n",
        "    output=self.fc(output)\n",
        "\n",
        "    return output\n"
      ],
      "execution_count": null,
      "outputs": []
    },
    {
      "cell_type": "code",
      "metadata": {
        "id": "AJrQzIkV53im"
      },
      "source": [
        "model = ConvNet(2).to(device)"
      ],
      "execution_count": null,
      "outputs": []
    },
    {
      "cell_type": "code",
      "metadata": {
        "id": "YxFm-UHF_1yv"
      },
      "source": [
        "# optimizer and loss function\n",
        "optimizer=Adam(model.parameters(),lr=0.001,weight_decay=0.0001)\n",
        "loss_function=nn.CrossEntropyLoss()"
      ],
      "execution_count": null,
      "outputs": []
    },
    {
      "cell_type": "code",
      "metadata": {
        "id": "g9IERBTxCVmQ"
      },
      "source": [
        "num_epochs=10"
      ],
      "execution_count": null,
      "outputs": []
    },
    {
      "cell_type": "code",
      "metadata": {
        "id": "ZAm7MSgvCfe4"
      },
      "source": [
        "#calculating the size of trainiing and testing images\n",
        "train_count=len(glob.glob(train_path+'/**/*.png'))\n",
        "test_count=len(glob.glob(test_path+'/**/*.png'))"
      ],
      "execution_count": null,
      "outputs": []
    },
    {
      "cell_type": "code",
      "metadata": {
        "colab": {
          "base_uri": "https://localhost:8080/"
        },
        "id": "0c2OOoBXC7iz",
        "outputId": "fdbcf063-6b5f-4e89-bf79-d3dbbb95eb6c"
      },
      "source": [
        "#Model training and saving best model\n",
        "\n",
        "best_accuracy=0.0\n",
        "\n",
        "for epoch in range(num_epochs):\n",
        "    \n",
        "    #Evaluation and training on training dataset\n",
        "    model.train()\n",
        "    train_accuracy=0.0\n",
        "    train_loss=0.0\n",
        "    \n",
        "    for i, (images,labels) in enumerate(train_loader):\n",
        "        if torch.cuda.is_available():\n",
        "            images=Variable(images.cuda())\n",
        "            labels=Variable(labels.cuda())\n",
        "            \n",
        "        optimizer.zero_grad()\n",
        "        \n",
        "        outputs=model(images)\n",
        "        loss=loss_function(outputs,labels)\n",
        "        loss.backward()\n",
        "        optimizer.step()\n",
        "        \n",
        "        \n",
        "        train_loss+= loss.cpu().data*images.size(0)\n",
        "        _,prediction=torch.max(outputs.data,1)\n",
        "        \n",
        "        train_accuracy+=int(torch.sum(prediction==labels.data))\n",
        "        \n",
        "    train_accuracy=train_accuracy/train_count\n",
        "    train_loss=train_loss/train_count\n",
        "    \n",
        "    \n",
        "    # Evaluation on testing dataset\n",
        "    model.eval()\n",
        "    \n",
        "    test_accuracy=0.0\n",
        "    for i, (images,labels) in enumerate(test_loader):\n",
        "        if torch.cuda.is_available():\n",
        "            images=Variable(images.cuda())\n",
        "            labels=Variable(labels.cuda())\n",
        "            \n",
        "        outputs=model(images)\n",
        "        _,prediction=torch.max(outputs.data,1)\n",
        "        test_accuracy+=int(torch.sum(prediction==labels.data))\n",
        "    \n",
        "    test_accuracy=test_accuracy/test_count\n",
        "    \n",
        "    \n",
        "    print('Epoch: '+str(epoch)+' Train Loss: '+str(train_loss)+' Train Accuracy: '+str(train_accuracy)+' Test Accuracy: '+str(test_accuracy))\n",
        "    \n",
        "    #Save the best model\n",
        "    if test_accuracy>best_accuracy:\n",
        "        torch.save(model.state_dict(),'best_checkpoint.model')\n",
        "        best_accuracy=test_accuracy"
      ],
      "execution_count": null,
      "outputs": [
        {
          "output_type": "stream",
          "name": "stdout",
          "text": [
            "Epoch: 0 Train Loss: tensor(9.1685) Train Accuracy: 0.7078961899503037 Test Accuracy: 0.8663721700717836\n",
            "Epoch: 1 Train Loss: tensor(5.0275) Train Accuracy: 0.8343456653782441 Test Accuracy: 0.7261181667586969\n",
            "Epoch: 2 Train Loss: tensor(3.2779) Train Accuracy: 0.8735505245720596 Test Accuracy: 0.8652678078409718\n",
            "Epoch: 3 Train Loss: tensor(1.6997) Train Accuracy: 0.913859745996687 Test Accuracy: 0.9122032026504694\n",
            "Epoch: 4 Train Loss: tensor(1.0376) Train Accuracy: 0.9177250138045279 Test Accuracy: 0.8310325786858089\n",
            "Epoch: 5 Train Loss: tensor(0.9572) Train Accuracy: 0.9105466593042518 Test Accuracy: 0.9458862506902264\n",
            "Epoch: 6 Train Loss: tensor(0.7171) Train Accuracy: 0.9226946438431806 Test Accuracy: 0.9442297073440088\n",
            "Epoch: 7 Train Loss: tensor(0.6894) Train Accuracy: 0.9254555494202098 Test Accuracy: 0.9552733296521259\n",
            "Epoch: 8 Train Loss: tensor(0.3268) Train Accuracy: 0.9580342352291552 Test Accuracy: 0.9530646051905025\n",
            "Epoch: 9 Train Loss: tensor(0.2924) Train Accuracy: 0.9525124240750966 Test Accuracy: 0.9541689674213142\n"
          ]
        }
      ]
    }
  ]
}